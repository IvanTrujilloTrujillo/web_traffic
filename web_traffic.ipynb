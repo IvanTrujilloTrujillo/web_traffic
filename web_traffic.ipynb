{
 "cells": [
  {
   "cell_type": "code",
   "execution_count": null,
   "metadata": {},
   "outputs": [],
   "source": [
    "import pandas as pd\n",
    "import numpy as np\n",
    "import matplotlib.pyplot as plt\n",
    "import seaborn as sns\n",
    "from scipy.fftpack import fft\n",
    "from statsmodels.tsa.stattools import pacf\n",
    "from statsmodels.tsa.stattools import acf\n",
    "from statsmodels.tsa.arima_model import ARIMA\n",
    "import warnings"
   ]
  },
  {
   "cell_type": "code",
   "execution_count": 2,
   "metadata": {},
   "outputs": [],
   "source": [
    "train = pd.read_csv('data/train_1.csv')\n",
    "test = pd.read_csv('data/key_1.csv')"
   ]
  },
  {
   "cell_type": "code",
   "execution_count": 3,
   "metadata": {},
   "outputs": [
    {
     "data": {
      "text/html": [
       "<div>\n",
       "<style scoped>\n",
       "    .dataframe tbody tr th:only-of-type {\n",
       "        vertical-align: middle;\n",
       "    }\n",
       "\n",
       "    .dataframe tbody tr th {\n",
       "        vertical-align: top;\n",
       "    }\n",
       "\n",
       "    .dataframe thead th {\n",
       "        text-align: right;\n",
       "    }\n",
       "</style>\n",
       "<table border=\"1\" class=\"dataframe\">\n",
       "  <thead>\n",
       "    <tr style=\"text-align: right;\">\n",
       "      <th></th>\n",
       "      <th>Page</th>\n",
       "      <th>2015-07-01</th>\n",
       "      <th>2015-07-02</th>\n",
       "      <th>2015-07-03</th>\n",
       "      <th>2015-07-04</th>\n",
       "      <th>2015-07-05</th>\n",
       "      <th>2015-07-06</th>\n",
       "      <th>2015-07-07</th>\n",
       "      <th>2015-07-08</th>\n",
       "      <th>2015-07-09</th>\n",
       "      <th>...</th>\n",
       "      <th>2016-12-22</th>\n",
       "      <th>2016-12-23</th>\n",
       "      <th>2016-12-24</th>\n",
       "      <th>2016-12-25</th>\n",
       "      <th>2016-12-26</th>\n",
       "      <th>2016-12-27</th>\n",
       "      <th>2016-12-28</th>\n",
       "      <th>2016-12-29</th>\n",
       "      <th>2016-12-30</th>\n",
       "      <th>2016-12-31</th>\n",
       "    </tr>\n",
       "  </thead>\n",
       "  <tbody>\n",
       "    <tr>\n",
       "      <th>0</th>\n",
       "      <td>2NE1_zh.wikipedia.org_all-access_spider</td>\n",
       "      <td>18.0</td>\n",
       "      <td>11.0</td>\n",
       "      <td>5.0</td>\n",
       "      <td>13.0</td>\n",
       "      <td>14.0</td>\n",
       "      <td>9.0</td>\n",
       "      <td>9.0</td>\n",
       "      <td>22.0</td>\n",
       "      <td>26.0</td>\n",
       "      <td>...</td>\n",
       "      <td>32.0</td>\n",
       "      <td>63.0</td>\n",
       "      <td>15.0</td>\n",
       "      <td>26.0</td>\n",
       "      <td>14.0</td>\n",
       "      <td>20.0</td>\n",
       "      <td>22.0</td>\n",
       "      <td>19.0</td>\n",
       "      <td>18.0</td>\n",
       "      <td>20.0</td>\n",
       "    </tr>\n",
       "    <tr>\n",
       "      <th>1</th>\n",
       "      <td>2PM_zh.wikipedia.org_all-access_spider</td>\n",
       "      <td>11.0</td>\n",
       "      <td>14.0</td>\n",
       "      <td>15.0</td>\n",
       "      <td>18.0</td>\n",
       "      <td>11.0</td>\n",
       "      <td>13.0</td>\n",
       "      <td>22.0</td>\n",
       "      <td>11.0</td>\n",
       "      <td>10.0</td>\n",
       "      <td>...</td>\n",
       "      <td>17.0</td>\n",
       "      <td>42.0</td>\n",
       "      <td>28.0</td>\n",
       "      <td>15.0</td>\n",
       "      <td>9.0</td>\n",
       "      <td>30.0</td>\n",
       "      <td>52.0</td>\n",
       "      <td>45.0</td>\n",
       "      <td>26.0</td>\n",
       "      <td>20.0</td>\n",
       "    </tr>\n",
       "    <tr>\n",
       "      <th>2</th>\n",
       "      <td>3C_zh.wikipedia.org_all-access_spider</td>\n",
       "      <td>1.0</td>\n",
       "      <td>0.0</td>\n",
       "      <td>1.0</td>\n",
       "      <td>1.0</td>\n",
       "      <td>0.0</td>\n",
       "      <td>4.0</td>\n",
       "      <td>0.0</td>\n",
       "      <td>3.0</td>\n",
       "      <td>4.0</td>\n",
       "      <td>...</td>\n",
       "      <td>3.0</td>\n",
       "      <td>1.0</td>\n",
       "      <td>1.0</td>\n",
       "      <td>7.0</td>\n",
       "      <td>4.0</td>\n",
       "      <td>4.0</td>\n",
       "      <td>6.0</td>\n",
       "      <td>3.0</td>\n",
       "      <td>4.0</td>\n",
       "      <td>17.0</td>\n",
       "    </tr>\n",
       "    <tr>\n",
       "      <th>3</th>\n",
       "      <td>4minute_zh.wikipedia.org_all-access_spider</td>\n",
       "      <td>35.0</td>\n",
       "      <td>13.0</td>\n",
       "      <td>10.0</td>\n",
       "      <td>94.0</td>\n",
       "      <td>4.0</td>\n",
       "      <td>26.0</td>\n",
       "      <td>14.0</td>\n",
       "      <td>9.0</td>\n",
       "      <td>11.0</td>\n",
       "      <td>...</td>\n",
       "      <td>32.0</td>\n",
       "      <td>10.0</td>\n",
       "      <td>26.0</td>\n",
       "      <td>27.0</td>\n",
       "      <td>16.0</td>\n",
       "      <td>11.0</td>\n",
       "      <td>17.0</td>\n",
       "      <td>19.0</td>\n",
       "      <td>10.0</td>\n",
       "      <td>11.0</td>\n",
       "    </tr>\n",
       "    <tr>\n",
       "      <th>4</th>\n",
       "      <td>52_Hz_I_Love_You_zh.wikipedia.org_all-access_s...</td>\n",
       "      <td>NaN</td>\n",
       "      <td>NaN</td>\n",
       "      <td>NaN</td>\n",
       "      <td>NaN</td>\n",
       "      <td>NaN</td>\n",
       "      <td>NaN</td>\n",
       "      <td>NaN</td>\n",
       "      <td>NaN</td>\n",
       "      <td>NaN</td>\n",
       "      <td>...</td>\n",
       "      <td>48.0</td>\n",
       "      <td>9.0</td>\n",
       "      <td>25.0</td>\n",
       "      <td>13.0</td>\n",
       "      <td>3.0</td>\n",
       "      <td>11.0</td>\n",
       "      <td>27.0</td>\n",
       "      <td>13.0</td>\n",
       "      <td>36.0</td>\n",
       "      <td>10.0</td>\n",
       "    </tr>\n",
       "  </tbody>\n",
       "</table>\n",
       "<p>5 rows × 551 columns</p>\n",
       "</div>"
      ],
      "text/plain": [
       "                                                Page  2015-07-01  2015-07-02  \\\n",
       "0            2NE1_zh.wikipedia.org_all-access_spider        18.0        11.0   \n",
       "1             2PM_zh.wikipedia.org_all-access_spider        11.0        14.0   \n",
       "2              3C_zh.wikipedia.org_all-access_spider         1.0         0.0   \n",
       "3         4minute_zh.wikipedia.org_all-access_spider        35.0        13.0   \n",
       "4  52_Hz_I_Love_You_zh.wikipedia.org_all-access_s...         NaN         NaN   \n",
       "\n",
       "   2015-07-03  2015-07-04  2015-07-05  2015-07-06  2015-07-07  2015-07-08  \\\n",
       "0         5.0        13.0        14.0         9.0         9.0        22.0   \n",
       "1        15.0        18.0        11.0        13.0        22.0        11.0   \n",
       "2         1.0         1.0         0.0         4.0         0.0         3.0   \n",
       "3        10.0        94.0         4.0        26.0        14.0         9.0   \n",
       "4         NaN         NaN         NaN         NaN         NaN         NaN   \n",
       "\n",
       "   2015-07-09  ...  2016-12-22  2016-12-23  2016-12-24  2016-12-25  \\\n",
       "0        26.0  ...        32.0        63.0        15.0        26.0   \n",
       "1        10.0  ...        17.0        42.0        28.0        15.0   \n",
       "2         4.0  ...         3.0         1.0         1.0         7.0   \n",
       "3        11.0  ...        32.0        10.0        26.0        27.0   \n",
       "4         NaN  ...        48.0         9.0        25.0        13.0   \n",
       "\n",
       "   2016-12-26  2016-12-27  2016-12-28  2016-12-29  2016-12-30  2016-12-31  \n",
       "0        14.0        20.0        22.0        19.0        18.0        20.0  \n",
       "1         9.0        30.0        52.0        45.0        26.0        20.0  \n",
       "2         4.0         4.0         6.0         3.0         4.0        17.0  \n",
       "3        16.0        11.0        17.0        19.0        10.0        11.0  \n",
       "4         3.0        11.0        27.0        13.0        36.0        10.0  \n",
       "\n",
       "[5 rows x 551 columns]"
      ]
     },
     "execution_count": 3,
     "metadata": {},
     "output_type": "execute_result"
    }
   ],
   "source": [
    "train.head()"
   ]
  },
  {
   "cell_type": "code",
   "execution_count": 4,
   "metadata": {},
   "outputs": [
    {
     "name": "stdout",
     "output_type": "stream",
     "text": [
      "<class 'pandas.core.frame.DataFrame'>\n",
      "RangeIndex: 145063 entries, 0 to 145062\n",
      "Columns: 551 entries, Page to 2016-12-31\n",
      "dtypes: float64(550), object(1)\n",
      "memory usage: 609.8+ MB\n"
     ]
    }
   ],
   "source": [
    "train.info()"
   ]
  },
  {
   "cell_type": "code",
   "execution_count": 5,
   "metadata": {},
   "outputs": [],
   "source": [
    "for col in train.drop(\"Page\", axis=1).columns:\n",
    "    train[col] = train[col].fillna(0)\n",
    "    train[col] = train[col].astype(np.int32)"
   ]
  },
  {
   "cell_type": "code",
   "execution_count": 6,
   "metadata": {},
   "outputs": [
    {
     "name": "stdout",
     "output_type": "stream",
     "text": [
      "<class 'pandas.core.frame.DataFrame'>\n",
      "RangeIndex: 145063 entries, 0 to 145062\n",
      "Columns: 551 entries, Page to 2016-12-31\n",
      "dtypes: int32(550), object(1)\n",
      "memory usage: 305.5+ MB\n"
     ]
    }
   ],
   "source": [
    "train.info()"
   ]
  },
  {
   "cell_type": "code",
   "execution_count": 7,
   "metadata": {},
   "outputs": [],
   "source": [
    "train = train.melt(id_vars=[\"Page\"], var_name='date', value_name='Visits')"
   ]
  },
  {
   "cell_type": "code",
   "execution_count": 8,
   "metadata": {},
   "outputs": [
    {
     "data": {
      "text/html": [
       "<div>\n",
       "<style scoped>\n",
       "    .dataframe tbody tr th:only-of-type {\n",
       "        vertical-align: middle;\n",
       "    }\n",
       "\n",
       "    .dataframe tbody tr th {\n",
       "        vertical-align: top;\n",
       "    }\n",
       "\n",
       "    .dataframe thead th {\n",
       "        text-align: right;\n",
       "    }\n",
       "</style>\n",
       "<table border=\"1\" class=\"dataframe\">\n",
       "  <thead>\n",
       "    <tr style=\"text-align: right;\">\n",
       "      <th></th>\n",
       "      <th>Page</th>\n",
       "      <th>date</th>\n",
       "      <th>Visits</th>\n",
       "    </tr>\n",
       "  </thead>\n",
       "  <tbody>\n",
       "    <tr>\n",
       "      <th>0</th>\n",
       "      <td>2NE1_zh.wikipedia.org_all-access_spider</td>\n",
       "      <td>2015-07-01</td>\n",
       "      <td>18</td>\n",
       "    </tr>\n",
       "    <tr>\n",
       "      <th>1</th>\n",
       "      <td>2PM_zh.wikipedia.org_all-access_spider</td>\n",
       "      <td>2015-07-01</td>\n",
       "      <td>11</td>\n",
       "    </tr>\n",
       "    <tr>\n",
       "      <th>2</th>\n",
       "      <td>3C_zh.wikipedia.org_all-access_spider</td>\n",
       "      <td>2015-07-01</td>\n",
       "      <td>1</td>\n",
       "    </tr>\n",
       "    <tr>\n",
       "      <th>3</th>\n",
       "      <td>4minute_zh.wikipedia.org_all-access_spider</td>\n",
       "      <td>2015-07-01</td>\n",
       "      <td>35</td>\n",
       "    </tr>\n",
       "    <tr>\n",
       "      <th>4</th>\n",
       "      <td>52_Hz_I_Love_You_zh.wikipedia.org_all-access_s...</td>\n",
       "      <td>2015-07-01</td>\n",
       "      <td>0</td>\n",
       "    </tr>\n",
       "  </tbody>\n",
       "</table>\n",
       "</div>"
      ],
      "text/plain": [
       "                                                Page        date  Visits\n",
       "0            2NE1_zh.wikipedia.org_all-access_spider  2015-07-01      18\n",
       "1             2PM_zh.wikipedia.org_all-access_spider  2015-07-01      11\n",
       "2              3C_zh.wikipedia.org_all-access_spider  2015-07-01       1\n",
       "3         4minute_zh.wikipedia.org_all-access_spider  2015-07-01      35\n",
       "4  52_Hz_I_Love_You_zh.wikipedia.org_all-access_s...  2015-07-01       0"
      ]
     },
     "execution_count": 8,
     "metadata": {},
     "output_type": "execute_result"
    }
   ],
   "source": [
    "train.head()"
   ]
  },
  {
   "cell_type": "code",
   "execution_count": 9,
   "metadata": {},
   "outputs": [
    {
     "data": {
      "text/html": [
       "<div>\n",
       "<style scoped>\n",
       "    .dataframe tbody tr th:only-of-type {\n",
       "        vertical-align: middle;\n",
       "    }\n",
       "\n",
       "    .dataframe tbody tr th {\n",
       "        vertical-align: top;\n",
       "    }\n",
       "\n",
       "    .dataframe thead th {\n",
       "        text-align: right;\n",
       "    }\n",
       "</style>\n",
       "<table border=\"1\" class=\"dataframe\">\n",
       "  <thead>\n",
       "    <tr style=\"text-align: right;\">\n",
       "      <th></th>\n",
       "      <th>Page</th>\n",
       "      <th>Id</th>\n",
       "    </tr>\n",
       "  </thead>\n",
       "  <tbody>\n",
       "    <tr>\n",
       "      <th>0</th>\n",
       "      <td>!vote_en.wikipedia.org_all-access_all-agents_2...</td>\n",
       "      <td>bf4edcf969af</td>\n",
       "    </tr>\n",
       "    <tr>\n",
       "      <th>1</th>\n",
       "      <td>!vote_en.wikipedia.org_all-access_all-agents_2...</td>\n",
       "      <td>929ed2bf52b9</td>\n",
       "    </tr>\n",
       "    <tr>\n",
       "      <th>2</th>\n",
       "      <td>!vote_en.wikipedia.org_all-access_all-agents_2...</td>\n",
       "      <td>ff29d0f51d5c</td>\n",
       "    </tr>\n",
       "    <tr>\n",
       "      <th>3</th>\n",
       "      <td>!vote_en.wikipedia.org_all-access_all-agents_2...</td>\n",
       "      <td>e98873359be6</td>\n",
       "    </tr>\n",
       "    <tr>\n",
       "      <th>4</th>\n",
       "      <td>!vote_en.wikipedia.org_all-access_all-agents_2...</td>\n",
       "      <td>fa012434263a</td>\n",
       "    </tr>\n",
       "  </tbody>\n",
       "</table>\n",
       "</div>"
      ],
      "text/plain": [
       "                                                Page            Id\n",
       "0  !vote_en.wikipedia.org_all-access_all-agents_2...  bf4edcf969af\n",
       "1  !vote_en.wikipedia.org_all-access_all-agents_2...  929ed2bf52b9\n",
       "2  !vote_en.wikipedia.org_all-access_all-agents_2...  ff29d0f51d5c\n",
       "3  !vote_en.wikipedia.org_all-access_all-agents_2...  e98873359be6\n",
       "4  !vote_en.wikipedia.org_all-access_all-agents_2...  fa012434263a"
      ]
     },
     "execution_count": 9,
     "metadata": {},
     "output_type": "execute_result"
    }
   ],
   "source": [
    "test.head()"
   ]
  },
  {
   "cell_type": "code",
   "execution_count": 10,
   "metadata": {},
   "outputs": [],
   "source": [
    "test['date'] = test[\"Page\"].apply(lambda x: x[-10:])\n",
    "test['Page'] = test[\"Page\"].apply(lambda x: x[:-11])"
   ]
  },
  {
   "cell_type": "code",
   "execution_count": 11,
   "metadata": {},
   "outputs": [
    {
     "data": {
      "text/html": [
       "<div>\n",
       "<style scoped>\n",
       "    .dataframe tbody tr th:only-of-type {\n",
       "        vertical-align: middle;\n",
       "    }\n",
       "\n",
       "    .dataframe tbody tr th {\n",
       "        vertical-align: top;\n",
       "    }\n",
       "\n",
       "    .dataframe thead th {\n",
       "        text-align: right;\n",
       "    }\n",
       "</style>\n",
       "<table border=\"1\" class=\"dataframe\">\n",
       "  <thead>\n",
       "    <tr style=\"text-align: right;\">\n",
       "      <th></th>\n",
       "      <th>Page</th>\n",
       "      <th>Id</th>\n",
       "      <th>date</th>\n",
       "    </tr>\n",
       "  </thead>\n",
       "  <tbody>\n",
       "    <tr>\n",
       "      <th>0</th>\n",
       "      <td>!vote_en.wikipedia.org_all-access_all-agents</td>\n",
       "      <td>bf4edcf969af</td>\n",
       "      <td>2017-01-01</td>\n",
       "    </tr>\n",
       "    <tr>\n",
       "      <th>1</th>\n",
       "      <td>!vote_en.wikipedia.org_all-access_all-agents</td>\n",
       "      <td>929ed2bf52b9</td>\n",
       "      <td>2017-01-02</td>\n",
       "    </tr>\n",
       "    <tr>\n",
       "      <th>2</th>\n",
       "      <td>!vote_en.wikipedia.org_all-access_all-agents</td>\n",
       "      <td>ff29d0f51d5c</td>\n",
       "      <td>2017-01-03</td>\n",
       "    </tr>\n",
       "    <tr>\n",
       "      <th>3</th>\n",
       "      <td>!vote_en.wikipedia.org_all-access_all-agents</td>\n",
       "      <td>e98873359be6</td>\n",
       "      <td>2017-01-04</td>\n",
       "    </tr>\n",
       "    <tr>\n",
       "      <th>4</th>\n",
       "      <td>!vote_en.wikipedia.org_all-access_all-agents</td>\n",
       "      <td>fa012434263a</td>\n",
       "      <td>2017-01-05</td>\n",
       "    </tr>\n",
       "  </tbody>\n",
       "</table>\n",
       "</div>"
      ],
      "text/plain": [
       "                                           Page            Id        date\n",
       "0  !vote_en.wikipedia.org_all-access_all-agents  bf4edcf969af  2017-01-01\n",
       "1  !vote_en.wikipedia.org_all-access_all-agents  929ed2bf52b9  2017-01-02\n",
       "2  !vote_en.wikipedia.org_all-access_all-agents  ff29d0f51d5c  2017-01-03\n",
       "3  !vote_en.wikipedia.org_all-access_all-agents  e98873359be6  2017-01-04\n",
       "4  !vote_en.wikipedia.org_all-access_all-agents  fa012434263a  2017-01-05"
      ]
     },
     "execution_count": 11,
     "metadata": {},
     "output_type": "execute_result"
    }
   ],
   "source": [
    "test.head()"
   ]
  },
  {
   "cell_type": "code",
   "execution_count": 12,
   "metadata": {},
   "outputs": [],
   "source": [
    "def separate_page(df):\n",
    "    df[\"Agent\"] = df[\"Page\"].apply(lambda x: x.split('_')[-1])\n",
    "    df[\"Access\"] = df[\"Page\"].apply(lambda x: x.split('_')[-2])\n",
    "    df[\"Web\"] = df[\"Page\"].apply(lambda x: x.split('_')[-3])\n",
    "    df[\"Language\"] = df[\"Web\"].apply(lambda x: x.split('.')[0])\n",
    "    df[\"Web\"] = df[\"Web\"].apply(lambda x: \".\".join(x.split('.')[1:]))\n",
    "    return df"
   ]
  },
  {
   "cell_type": "code",
   "execution_count": 13,
   "metadata": {},
   "outputs": [],
   "source": [
    "train = separate_page(train)\n",
    "test = separate_page(test)"
   ]
  },
  {
   "cell_type": "code",
   "execution_count": 14,
   "metadata": {},
   "outputs": [
    {
     "data": {
      "text/html": [
       "<div>\n",
       "<style scoped>\n",
       "    .dataframe tbody tr th:only-of-type {\n",
       "        vertical-align: middle;\n",
       "    }\n",
       "\n",
       "    .dataframe tbody tr th {\n",
       "        vertical-align: top;\n",
       "    }\n",
       "\n",
       "    .dataframe thead th {\n",
       "        text-align: right;\n",
       "    }\n",
       "</style>\n",
       "<table border=\"1\" class=\"dataframe\">\n",
       "  <thead>\n",
       "    <tr style=\"text-align: right;\">\n",
       "      <th></th>\n",
       "      <th>Page</th>\n",
       "      <th>date</th>\n",
       "      <th>Visits</th>\n",
       "      <th>Agent</th>\n",
       "      <th>Access</th>\n",
       "      <th>Web</th>\n",
       "      <th>Language</th>\n",
       "    </tr>\n",
       "  </thead>\n",
       "  <tbody>\n",
       "    <tr>\n",
       "      <th>0</th>\n",
       "      <td>2NE1_zh.wikipedia.org_all-access_spider</td>\n",
       "      <td>2015-07-01</td>\n",
       "      <td>18</td>\n",
       "      <td>spider</td>\n",
       "      <td>all-access</td>\n",
       "      <td>wikipedia.org</td>\n",
       "      <td>zh</td>\n",
       "    </tr>\n",
       "    <tr>\n",
       "      <th>1</th>\n",
       "      <td>2PM_zh.wikipedia.org_all-access_spider</td>\n",
       "      <td>2015-07-01</td>\n",
       "      <td>11</td>\n",
       "      <td>spider</td>\n",
       "      <td>all-access</td>\n",
       "      <td>wikipedia.org</td>\n",
       "      <td>zh</td>\n",
       "    </tr>\n",
       "    <tr>\n",
       "      <th>2</th>\n",
       "      <td>3C_zh.wikipedia.org_all-access_spider</td>\n",
       "      <td>2015-07-01</td>\n",
       "      <td>1</td>\n",
       "      <td>spider</td>\n",
       "      <td>all-access</td>\n",
       "      <td>wikipedia.org</td>\n",
       "      <td>zh</td>\n",
       "    </tr>\n",
       "    <tr>\n",
       "      <th>3</th>\n",
       "      <td>4minute_zh.wikipedia.org_all-access_spider</td>\n",
       "      <td>2015-07-01</td>\n",
       "      <td>35</td>\n",
       "      <td>spider</td>\n",
       "      <td>all-access</td>\n",
       "      <td>wikipedia.org</td>\n",
       "      <td>zh</td>\n",
       "    </tr>\n",
       "    <tr>\n",
       "      <th>4</th>\n",
       "      <td>52_Hz_I_Love_You_zh.wikipedia.org_all-access_s...</td>\n",
       "      <td>2015-07-01</td>\n",
       "      <td>0</td>\n",
       "      <td>spider</td>\n",
       "      <td>all-access</td>\n",
       "      <td>wikipedia.org</td>\n",
       "      <td>zh</td>\n",
       "    </tr>\n",
       "  </tbody>\n",
       "</table>\n",
       "</div>"
      ],
      "text/plain": [
       "                                                Page        date  Visits  \\\n",
       "0            2NE1_zh.wikipedia.org_all-access_spider  2015-07-01      18   \n",
       "1             2PM_zh.wikipedia.org_all-access_spider  2015-07-01      11   \n",
       "2              3C_zh.wikipedia.org_all-access_spider  2015-07-01       1   \n",
       "3         4minute_zh.wikipedia.org_all-access_spider  2015-07-01      35   \n",
       "4  52_Hz_I_Love_You_zh.wikipedia.org_all-access_s...  2015-07-01       0   \n",
       "\n",
       "    Agent      Access            Web Language  \n",
       "0  spider  all-access  wikipedia.org       zh  \n",
       "1  spider  all-access  wikipedia.org       zh  \n",
       "2  spider  all-access  wikipedia.org       zh  \n",
       "3  spider  all-access  wikipedia.org       zh  \n",
       "4  spider  all-access  wikipedia.org       zh  "
      ]
     },
     "execution_count": 14,
     "metadata": {},
     "output_type": "execute_result"
    }
   ],
   "source": [
    "train.head()"
   ]
  },
  {
   "cell_type": "code",
   "execution_count": 15,
   "metadata": {},
   "outputs": [
    {
     "data": {
      "text/plain": [
       "Agent\n",
       "all-agents    60582500\n",
       "spider        19202150\n",
       "Name: count, dtype: int64"
      ]
     },
     "execution_count": 15,
     "metadata": {},
     "output_type": "execute_result"
    }
   ],
   "source": [
    "train[\"Agent\"].value_counts()"
   ]
  },
  {
   "cell_type": "code",
   "execution_count": 16,
   "metadata": {},
   "outputs": [
    {
     "data": {
      "text/plain": [
       "Access\n",
       "all-access    40873250\n",
       "mobile-web    19766450\n",
       "desktop       19144950\n",
       "Name: count, dtype: int64"
      ]
     },
     "execution_count": 16,
     "metadata": {},
     "output_type": "execute_result"
    }
   ],
   "source": [
    "train[\"Access\"].value_counts()"
   ]
  },
  {
   "cell_type": "code",
   "execution_count": 17,
   "metadata": {},
   "outputs": [
    {
     "data": {
      "text/plain": [
       "Web\n",
       "wikipedia.org    69964400\n",
       "wikimedia.org     5805250\n",
       "mediawiki.org     4015000\n",
       "Name: count, dtype: int64"
      ]
     },
     "execution_count": 17,
     "metadata": {},
     "output_type": "execute_result"
    }
   ],
   "source": [
    "train[\"Web\"].value_counts()"
   ]
  },
  {
   "cell_type": "code",
   "execution_count": 18,
   "metadata": {},
   "outputs": [
    {
     "data": {
      "text/plain": [
       "Language\n",
       "en         13259400\n",
       "ja         11237050\n",
       "de         10200850\n",
       "fr          9791100\n",
       "zh          9475950\n",
       "ru          8262100\n",
       "es          7737950\n",
       "commons     5805250\n",
       "www         4015000\n",
       "Name: count, dtype: int64"
      ]
     },
     "execution_count": 18,
     "metadata": {},
     "output_type": "execute_result"
    }
   ],
   "source": [
    "train[\"Language\"].value_counts()"
   ]
  },
  {
   "cell_type": "code",
   "execution_count": 19,
   "metadata": {},
   "outputs": [],
   "source": [
    "train[\"Language\"] = train[\"Language\"].apply(lambda x: \"na\" if x in (\"commons\", \"www\") else x)"
   ]
  },
  {
   "cell_type": "code",
   "execution_count": 20,
   "metadata": {},
   "outputs": [],
   "source": [
    "train = train.set_index([\"Page\", \"date\"])"
   ]
  },
  {
   "cell_type": "code",
   "execution_count": 21,
   "metadata": {},
   "outputs": [
    {
     "data": {
      "text/html": [
       "<div>\n",
       "<style scoped>\n",
       "    .dataframe tbody tr th:only-of-type {\n",
       "        vertical-align: middle;\n",
       "    }\n",
       "\n",
       "    .dataframe tbody tr th {\n",
       "        vertical-align: top;\n",
       "    }\n",
       "\n",
       "    .dataframe thead th {\n",
       "        text-align: right;\n",
       "    }\n",
       "</style>\n",
       "<table border=\"1\" class=\"dataframe\">\n",
       "  <thead>\n",
       "    <tr style=\"text-align: right;\">\n",
       "      <th></th>\n",
       "      <th></th>\n",
       "      <th>Visits</th>\n",
       "      <th>Agent</th>\n",
       "      <th>Access</th>\n",
       "      <th>Web</th>\n",
       "      <th>Language</th>\n",
       "    </tr>\n",
       "    <tr>\n",
       "      <th>Page</th>\n",
       "      <th>date</th>\n",
       "      <th></th>\n",
       "      <th></th>\n",
       "      <th></th>\n",
       "      <th></th>\n",
       "      <th></th>\n",
       "    </tr>\n",
       "  </thead>\n",
       "  <tbody>\n",
       "    <tr>\n",
       "      <th>2NE1_zh.wikipedia.org_all-access_spider</th>\n",
       "      <th>2015-07-01</th>\n",
       "      <td>18</td>\n",
       "      <td>spider</td>\n",
       "      <td>all-access</td>\n",
       "      <td>wikipedia.org</td>\n",
       "      <td>zh</td>\n",
       "    </tr>\n",
       "    <tr>\n",
       "      <th>2PM_zh.wikipedia.org_all-access_spider</th>\n",
       "      <th>2015-07-01</th>\n",
       "      <td>11</td>\n",
       "      <td>spider</td>\n",
       "      <td>all-access</td>\n",
       "      <td>wikipedia.org</td>\n",
       "      <td>zh</td>\n",
       "    </tr>\n",
       "    <tr>\n",
       "      <th>3C_zh.wikipedia.org_all-access_spider</th>\n",
       "      <th>2015-07-01</th>\n",
       "      <td>1</td>\n",
       "      <td>spider</td>\n",
       "      <td>all-access</td>\n",
       "      <td>wikipedia.org</td>\n",
       "      <td>zh</td>\n",
       "    </tr>\n",
       "    <tr>\n",
       "      <th>4minute_zh.wikipedia.org_all-access_spider</th>\n",
       "      <th>2015-07-01</th>\n",
       "      <td>35</td>\n",
       "      <td>spider</td>\n",
       "      <td>all-access</td>\n",
       "      <td>wikipedia.org</td>\n",
       "      <td>zh</td>\n",
       "    </tr>\n",
       "    <tr>\n",
       "      <th>52_Hz_I_Love_You_zh.wikipedia.org_all-access_spider</th>\n",
       "      <th>2015-07-01</th>\n",
       "      <td>0</td>\n",
       "      <td>spider</td>\n",
       "      <td>all-access</td>\n",
       "      <td>wikipedia.org</td>\n",
       "      <td>zh</td>\n",
       "    </tr>\n",
       "  </tbody>\n",
       "</table>\n",
       "</div>"
      ],
      "text/plain": [
       "                                                               Visits   Agent  \\\n",
       "Page                                               date                         \n",
       "2NE1_zh.wikipedia.org_all-access_spider            2015-07-01      18  spider   \n",
       "2PM_zh.wikipedia.org_all-access_spider             2015-07-01      11  spider   \n",
       "3C_zh.wikipedia.org_all-access_spider              2015-07-01       1  spider   \n",
       "4minute_zh.wikipedia.org_all-access_spider         2015-07-01      35  spider   \n",
       "52_Hz_I_Love_You_zh.wikipedia.org_all-access_sp... 2015-07-01       0  spider   \n",
       "\n",
       "                                                                   Access  \\\n",
       "Page                                               date                     \n",
       "2NE1_zh.wikipedia.org_all-access_spider            2015-07-01  all-access   \n",
       "2PM_zh.wikipedia.org_all-access_spider             2015-07-01  all-access   \n",
       "3C_zh.wikipedia.org_all-access_spider              2015-07-01  all-access   \n",
       "4minute_zh.wikipedia.org_all-access_spider         2015-07-01  all-access   \n",
       "52_Hz_I_Love_You_zh.wikipedia.org_all-access_sp... 2015-07-01  all-access   \n",
       "\n",
       "                                                                         Web  \\\n",
       "Page                                               date                        \n",
       "2NE1_zh.wikipedia.org_all-access_spider            2015-07-01  wikipedia.org   \n",
       "2PM_zh.wikipedia.org_all-access_spider             2015-07-01  wikipedia.org   \n",
       "3C_zh.wikipedia.org_all-access_spider              2015-07-01  wikipedia.org   \n",
       "4minute_zh.wikipedia.org_all-access_spider         2015-07-01  wikipedia.org   \n",
       "52_Hz_I_Love_You_zh.wikipedia.org_all-access_sp... 2015-07-01  wikipedia.org   \n",
       "\n",
       "                                                              Language  \n",
       "Page                                               date                 \n",
       "2NE1_zh.wikipedia.org_all-access_spider            2015-07-01       zh  \n",
       "2PM_zh.wikipedia.org_all-access_spider             2015-07-01       zh  \n",
       "3C_zh.wikipedia.org_all-access_spider              2015-07-01       zh  \n",
       "4minute_zh.wikipedia.org_all-access_spider         2015-07-01       zh  \n",
       "52_Hz_I_Love_You_zh.wikipedia.org_all-access_sp... 2015-07-01       zh  "
      ]
     },
     "execution_count": 21,
     "metadata": {},
     "output_type": "execute_result"
    }
   ],
   "source": [
    "train.head()"
   ]
  },
  {
   "cell_type": "code",
   "execution_count": 22,
   "metadata": {},
   "outputs": [],
   "source": [
    "lang_sets = {}\n",
    "lang_sets['en'] = train[train[\"Language\"]=='en'].iloc[:,0:-1]\n",
    "lang_sets['ja'] = train[train[\"Language\"]=='ja'].iloc[:,0:-1]\n",
    "lang_sets['de'] = train[train[\"Language\"]=='de'].iloc[:,0:-1]\n",
    "lang_sets['na'] = train[train[\"Language\"]=='na'].iloc[:,0:-1]\n",
    "lang_sets['fr'] = train[train[\"Language\"]=='fr'].iloc[:,0:-1]\n",
    "lang_sets['zh'] = train[train[\"Language\"]=='zh'].iloc[:,0:-1]\n",
    "lang_sets['ru'] = train[train[\"Language\"]=='ru'].iloc[:,0:-1]\n",
    "lang_sets['es'] = train[train[\"Language\"]=='es'].iloc[:,0:-1]\n",
    "lang_sets['na'] = train[train[\"Language\"]=='na'].iloc[:,0:-1]\n",
    "\n",
    "sums = {}\n",
    "for key in lang_sets:\n",
    "    sums[key] = lang_sets[key].iloc[:,1:].sum(axis=0) / lang_sets[key].shape[0]"
   ]
  },
  {
   "cell_type": "code",
   "execution_count": null,
   "metadata": {},
   "outputs": [],
   "source": [
    "days = [r for r in range(sums['en'].shape[0])]\n",
    "\n",
    "fig = plt.figure(1,figsize=[10,10])\n",
    "plt.ylabel('Views per Page')\n",
    "plt.xlabel('Day')\n",
    "plt.title('Pages in Different Languages')\n",
    "labels={'en':'English','ja':'Japanese','de':'German',\n",
    "        'na':'Media','fr':'French','zh':'Chinese',\n",
    "        'ru':'Russian','es':'Spanish'\n",
    "       }\n",
    "\n",
    "for key in sums:\n",
    "    plt.plot(days,sums[key],label = labels[key] )\n",
    "    \n",
    "plt.legend()\n",
    "plt.show()"
   ]
  },
  {
   "cell_type": "code",
   "execution_count": null,
   "metadata": {},
   "outputs": [],
   "source": [
    "def plot_with_fft(key):\n",
    "\n",
    "    fig = plt.figure(1,figsize=[15,5])\n",
    "    plt.ylabel('Views per Page')\n",
    "    plt.xlabel('Day')\n",
    "    plt.title(labels[key])\n",
    "    plt.plot(days,sums[key],label = labels[key] )\n",
    "    \n",
    "    fig = plt.figure(2,figsize=[15,5])\n",
    "    fft_complex = fft(sums[key])\n",
    "    fft_mag = [np.sqrt(np.real(x)*np.real(x)+np.imag(x)*np.imag(x)) for x in fft_complex]\n",
    "    fft_xvals = [day / days[-1] for day in days]\n",
    "    npts = len(fft_xvals) // 2 + 1\n",
    "    fft_mag = fft_mag[:npts]\n",
    "    fft_xvals = fft_xvals[:npts]\n",
    "        \n",
    "    plt.ylabel('FFT Magnitude')\n",
    "    plt.xlabel(r\"Frequency [days]$^{-1}$\")\n",
    "    plt.title('Fourier Transform')\n",
    "    plt.plot(fft_xvals[1:],fft_mag[1:],label = labels[key] )\n",
    "    # Draw lines at 1, 1/2, and 1/3 week periods\n",
    "    plt.axvline(x=1./7,color='red',alpha=0.3)\n",
    "    plt.axvline(x=2./7,color='red',alpha=0.3)\n",
    "    plt.axvline(x=3./7,color='red',alpha=0.3)\n",
    "\n",
    "    plt.show()\n",
    "\n",
    "for key in sums:\n",
    "    plot_with_fft(key)"
   ]
  },
  {
   "cell_type": "code",
   "execution_count": null,
   "metadata": {},
   "outputs": [],
   "source": [
    "def plot_entry(key,idx):\n",
    "    data = lang_sets[key].iloc[idx,1:]\n",
    "    fig = plt.figure(1,figsize=(10,5))\n",
    "    plt.plot(days,data)\n",
    "    plt.xlabel('day')\n",
    "    plt.ylabel('views')\n",
    "    plt.title(train.iloc[lang_sets[key].index[idx],0])\n",
    "    \n",
    "    plt.show()"
   ]
  },
  {
   "cell_type": "code",
   "execution_count": null,
   "metadata": {},
   "outputs": [],
   "source": [
    "idx = [1, 5, 10, 50, 100, 250,500, 750,1000,1500,2000,3000,4000,5000]\n",
    "for i in idx:\n",
    "    plot_entry('en',i)"
   ]
  },
  {
   "cell_type": "code",
   "execution_count": null,
   "metadata": {},
   "outputs": [],
   "source": [
    "# For each language get highest few pages\n",
    "npages = 5\n",
    "top_pages = {}\n",
    "for key in lang_sets:\n",
    "    print(key)\n",
    "    sum_set = pd.DataFrame(lang_sets[key][['Page']])\n",
    "    sum_set['total'] = lang_sets[key].sum(axis=1)\n",
    "    sum_set = sum_set.sort_values('total',ascending=False)\n",
    "    print(sum_set.head(10))\n",
    "    top_pages[key] = sum_set.index[0]\n",
    "    print('\\n\\n')"
   ]
  },
  {
   "cell_type": "code",
   "execution_count": null,
   "metadata": {},
   "outputs": [],
   "source": [
    "for key in top_pages:\n",
    "    fig = plt.figure(1,figsize=[10,5])\n",
    "    ax1 = fig.add_subplot(121)\n",
    "    ax2 = fig.add_subplot(122)\n",
    "    cols = train.columns[1:-1]\n",
    "    data = np.array(train.loc[top_pages[key],cols])\n",
    "    data_diff = [data[i] - data[i-1] for i in range(1,len(data))]\n",
    "    autocorr = acf(data_diff)\n",
    "    pac = pacf(data_diff)\n",
    "\n",
    "    x = [x for x in range(len(pac))]\n",
    "    ax1.plot(x[1:],autocorr[1:])\n",
    "\n",
    "    ax2.plot(x[1:],pac[1:])\n",
    "    ax1.set_xlabel('Lag')\n",
    "    ax1.set_ylabel('Autocorrelation')\n",
    "    ax1.set_title(train.loc[top_pages[key],'Page'])\n",
    "\n",
    "    ax2.set_xlabel('Lag')\n",
    "    ax2.set_ylabel('Partial Autocorrelation')\n",
    "    plt.show()"
   ]
  },
  {
   "cell_type": "code",
   "execution_count": null,
   "metadata": {},
   "outputs": [],
   "source": [
    "cols = train.columns[1:-1]\n",
    "for key in top_pages:\n",
    "    data = np.array(train.loc[top_pages[key],cols],'f')\n",
    "    result = None\n",
    "    with warnings.catch_warnings():\n",
    "        warnings.filterwarnings('ignore')\n",
    "        try:\n",
    "            arima = ARIMA(data,[2,1,4])\n",
    "            result = arima.fit(disp=False)\n",
    "        except:\n",
    "            try:\n",
    "                arima = ARIMA(data,[2,1,2])\n",
    "                result = arima.fit(disp=False)\n",
    "            except:\n",
    "                print(train.loc[top_pages[key],'Page'])\n",
    "                print('\\tARIMA failed')\n",
    "    #print(result.params)\n",
    "    pred = result.predict(2,599,typ='levels')\n",
    "    x = [i for i in range(600)]\n",
    "    i=0\n",
    "\n",
    "    plt.plot(x[2:len(data)],data[2:] ,label='Data')\n",
    "    plt.plot(x[2:],pred,label='ARIMA Model')\n",
    "    plt.title(train.loc[top_pages[key],'Page'])\n",
    "    plt.xlabel('Days')\n",
    "    plt.ylabel('Views')\n",
    "    plt.legend()\n",
    "    plt.show()"
   ]
  },
  {
   "cell_type": "code",
   "execution_count": null,
   "metadata": {},
   "outputs": [],
   "source": [
    "train = pd.concat([train.drop(\"Agent\", axis=1), pd.get_dummies(train[\"Agent\"], prefix=\"Agent\")], axis=1)\n",
    "train = pd.concat([train.drop(\"Access\", axis=1), pd.get_dummies(train[\"Access\"], prefix=\"Access\")], axis=1)\n",
    "train = pd.concat([train.drop(\"Web\", axis=1), pd.get_dummies(train[\"Web\"], prefix=\"Web\")], axis=1)\n",
    "train = pd.concat([train.drop(\"Language\", axis=1), pd.get_dummies(train[\"Language\"], prefix=\"Language\")], axis=1)\n",
    "test = pd.concat([test.drop(\"Agent\", axis=1), pd.get_dummies(test[\"Agent\"], prefix=\"Agent\")], axis=1)\n",
    "test = pd.concat([test.drop(\"Access\", axis=1), pd.get_dummies(test[\"Access\"], prefix=\"Access\")], axis=1)\n",
    "test = pd.concat([test.drop(\"Web\", axis=1), pd.get_dummies(test[\"Web\"], prefix=\"Web\")], axis=1)\n",
    "test = pd.concat([test.drop(\"Language\", axis=1), pd.get_dummies(test[\"Language\"], prefix=\"Language\")], axis=1)"
   ]
  },
  {
   "cell_type": "code",
   "execution_count": null,
   "metadata": {},
   "outputs": [],
   "source": [
    "train = train.map({False: 0, True: 1})\n",
    "test = test.map({False: 0, True: 1})"
   ]
  },
  {
   "cell_type": "code",
   "execution_count": null,
   "metadata": {},
   "outputs": [],
   "source": [
    "train.head()"
   ]
  },
  {
   "cell_type": "code",
   "execution_count": null,
   "metadata": {},
   "outputs": [],
   "source": [
    "def make_lags(df, num_lags, num_leads=1):\n",
    "    for i in range(num_leads, num_lags + num_leads):\n",
    "        df[\"lag_{}\".format(i)] = df.groupby([\"Page\"])[\"Visits\"].shift(i)\n",
    "    return df"
   ]
  },
  {
   "cell_type": "code",
   "execution_count": null,
   "metadata": {},
   "outputs": [],
   "source": [
    "def make_steps(df, num_steps):\n",
    "    for i in range(1, num_steps + 1):\n",
    "        df[\"step_{}\".format(i)] = df.groupby([\"Page\"])[\"Visits\"].shift(-i)\n",
    "    return df"
   ]
  },
  {
   "cell_type": "code",
   "execution_count": null,
   "metadata": {},
   "outputs": [],
   "source": [
    "train = make_lags(train, 7).dropna()\n",
    "train = make_steps(train, 60).dropna()"
   ]
  },
  {
   "cell_type": "code",
   "execution_count": null,
   "metadata": {},
   "outputs": [],
   "source": [
    "train.head()"
   ]
  },
  {
   "cell_type": "code",
   "execution_count": null,
   "metadata": {},
   "outputs": [],
   "source": [
    "train"
   ]
  }
 ],
 "metadata": {
  "kernelspec": {
   "display_name": "venv",
   "language": "python",
   "name": "python3"
  },
  "language_info": {
   "codemirror_mode": {
    "name": "ipython",
    "version": 3
   },
   "file_extension": ".py",
   "mimetype": "text/x-python",
   "name": "python",
   "nbconvert_exporter": "python",
   "pygments_lexer": "ipython3",
   "version": "3.12.2"
  }
 },
 "nbformat": 4,
 "nbformat_minor": 2
}
