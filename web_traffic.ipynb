{
 "cells": [
  {
   "cell_type": "code",
   "execution_count": null,
   "metadata": {},
   "outputs": [],
   "source": [
    "import pandas as pd\n",
    "import numpy as np\n",
    "import matplotlib.pyplot as plt\n",
    "import seaborn as sns"
   ]
  },
  {
   "cell_type": "code",
   "execution_count": null,
   "metadata": {},
   "outputs": [],
   "source": [
    "train = pd.read_csv('data/train_1.csv')\n",
    "test = pd.read_csv('data/key_1.csv')"
   ]
  },
  {
   "cell_type": "code",
   "execution_count": null,
   "metadata": {},
   "outputs": [],
   "source": [
    "train.head()"
   ]
  },
  {
   "cell_type": "code",
   "execution_count": null,
   "metadata": {},
   "outputs": [],
   "source": [
    "train.info()"
   ]
  },
  {
   "cell_type": "code",
   "execution_count": null,
   "metadata": {},
   "outputs": [],
   "source": [
    "for col in train.drop(\"Page\", axis=1).columns:\n",
    "    train[col] = train[col].fillna(0)\n",
    "    train[col] = train[col].astype(np.int32)"
   ]
  },
  {
   "cell_type": "code",
   "execution_count": null,
   "metadata": {},
   "outputs": [],
   "source": [
    "train.info()"
   ]
  },
  {
   "cell_type": "code",
   "execution_count": null,
   "metadata": {},
   "outputs": [],
   "source": [
    "train = train.melt(id_vars=[\"Page\"], var_name='date', value_name='Visits')"
   ]
  },
  {
   "cell_type": "code",
   "execution_count": null,
   "metadata": {},
   "outputs": [],
   "source": [
    "train.head()"
   ]
  },
  {
   "cell_type": "code",
   "execution_count": null,
   "metadata": {},
   "outputs": [],
   "source": [
    "test.head()"
   ]
  },
  {
   "cell_type": "code",
   "execution_count": null,
   "metadata": {},
   "outputs": [],
   "source": [
    "test['date'] = test[\"Page\"].apply(lambda x: x[-10:])\n",
    "test['Page'] = test[\"Page\"].apply(lambda x: x[:-11])"
   ]
  },
  {
   "cell_type": "code",
   "execution_count": null,
   "metadata": {},
   "outputs": [],
   "source": [
    "test.head()"
   ]
  },
  {
   "cell_type": "code",
   "execution_count": null,
   "metadata": {},
   "outputs": [],
   "source": [
    "def separate_page(df):\n",
    "    df[\"Agent\"] = df[\"Page\"].apply(lambda x: x.split('_')[-1])\n",
    "    df[\"Access\"] = df[\"Page\"].apply(lambda x: x.split('_')[-2])\n",
    "    df[\"Web\"] = df[\"Page\"].apply(lambda x: x.split('_')[-3])\n",
    "    df[\"Language\"] = df[\"Web\"].apply(lambda x: x.split('.')[0])\n",
    "    df[\"Web\"] = df[\"Web\"].apply(lambda x: \".\".join(x.split('.')[1:]))\n",
    "    return df"
   ]
  },
  {
   "cell_type": "code",
   "execution_count": null,
   "metadata": {},
   "outputs": [],
   "source": [
    "train = separate_page(train)\n",
    "test = separate_page(test)"
   ]
  },
  {
   "cell_type": "code",
   "execution_count": null,
   "metadata": {},
   "outputs": [],
   "source": [
    "train.head()"
   ]
  },
  {
   "cell_type": "code",
   "execution_count": null,
   "metadata": {},
   "outputs": [],
   "source": [
    "train[\"Agent\"].value_counts()"
   ]
  },
  {
   "cell_type": "code",
   "execution_count": null,
   "metadata": {},
   "outputs": [],
   "source": [
    "train[\"Access\"].value_counts()"
   ]
  },
  {
   "cell_type": "code",
   "execution_count": null,
   "metadata": {},
   "outputs": [],
   "source": [
    "train[\"Web\"].value_counts()"
   ]
  },
  {
   "cell_type": "code",
   "execution_count": null,
   "metadata": {},
   "outputs": [],
   "source": [
    "train[\"Language\"].value_counts()"
   ]
  },
  {
   "cell_type": "code",
   "execution_count": null,
   "metadata": {},
   "outputs": [],
   "source": [
    "train[\"Language\"] = train[\"Language\"].apply(lambda x: \"na\" if x in (\"commons\", \"www\") else x)"
   ]
  },
  {
   "cell_type": "code",
   "execution_count": null,
   "metadata": {},
   "outputs": [],
   "source": [
    "train = train.set_index([\"Page\", \"date\"])"
   ]
  },
  {
   "cell_type": "code",
   "execution_count": null,
   "metadata": {},
   "outputs": [],
   "source": [
    "train.head()"
   ]
  },
  {
   "cell_type": "code",
   "execution_count": null,
   "metadata": {},
   "outputs": [],
   "source": [
    "train = pd.concat([train.drop(\"Agent\", axis=1), pd.get_dummies(train[\"Agent\"], prefix=\"Agent\")], axis=1)\n",
    "train = pd.concat([train.drop(\"Access\", axis=1), pd.get_dummies(train[\"Access\"], prefix=\"Access\")], axis=1)\n",
    "train = pd.concat([train.drop(\"Web\", axis=1), pd.get_dummies(train[\"Web\"], prefix=\"Web\")], axis=1)\n",
    "train = pd.concat([train.drop(\"Language\", axis=1), pd.get_dummies(train[\"Language\"], prefix=\"Language\")], axis=1)\n",
    "test = pd.concat([test.drop(\"Agent\", axis=1), pd.get_dummies(test[\"Agent\"], prefix=\"Agent\")], axis=1)\n",
    "test = pd.concat([test.drop(\"Access\", axis=1), pd.get_dummies(test[\"Access\"], prefix=\"Access\")], axis=1)\n",
    "test = pd.concat([test.drop(\"Web\", axis=1), pd.get_dummies(test[\"Web\"], prefix=\"Web\")], axis=1)\n",
    "test = pd.concat([test.drop(\"Language\", axis=1), pd.get_dummies(test[\"Language\"], prefix=\"Language\")], axis=1)"
   ]
  },
  {
   "cell_type": "code",
   "execution_count": null,
   "metadata": {},
   "outputs": [],
   "source": [
    "train = train.map({False: 0, True: 1})\n",
    "test = test.map({False: 0, True: 1})"
   ]
  },
  {
   "cell_type": "code",
   "execution_count": null,
   "metadata": {},
   "outputs": [],
   "source": [
    "train.head()"
   ]
  },
  {
   "cell_type": "code",
   "execution_count": null,
   "metadata": {},
   "outputs": [],
   "source": [
    "def make_lags(df, num_lags, num_leads=1):\n",
    "    for i in range(num_leads, num_lags + num_leads):\n",
    "        df[\"lag_{}\".format(i)] = df.groupby([\"Page\"])[\"Visits\"].shift(i)\n",
    "    return df"
   ]
  },
  {
   "cell_type": "code",
   "execution_count": null,
   "metadata": {},
   "outputs": [],
   "source": [
    "def make_steps(df, num_steps):\n",
    "    for i in range(1, num_steps + 1):\n",
    "        df[\"step_{}\".format(i)] = df.groupby([\"Page\"])[\"Visits\"].shift(-i)\n",
    "    return df"
   ]
  },
  {
   "cell_type": "code",
   "execution_count": null,
   "metadata": {},
   "outputs": [],
   "source": [
    "train = make_lags(train, 7).dropna()\n",
    "train = make_steps(train, 60).dropna()"
   ]
  },
  {
   "cell_type": "code",
   "execution_count": null,
   "metadata": {},
   "outputs": [],
   "source": [
    "train.head()"
   ]
  },
  {
   "cell_type": "code",
   "execution_count": null,
   "metadata": {},
   "outputs": [],
   "source": [
    "train"
   ]
  }
 ],
 "metadata": {
  "kernelspec": {
   "display_name": "venv",
   "language": "python",
   "name": "python3"
  },
  "language_info": {
   "codemirror_mode": {
    "name": "ipython",
    "version": 3
   },
   "file_extension": ".py",
   "mimetype": "text/x-python",
   "name": "python",
   "nbconvert_exporter": "python",
   "pygments_lexer": "ipython3",
   "version": "3.12.2"
  }
 },
 "nbformat": 4,
 "nbformat_minor": 2
}
